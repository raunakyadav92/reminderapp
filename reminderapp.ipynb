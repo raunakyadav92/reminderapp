{
  "nbformat": 4,
  "nbformat_minor": 0,
  "metadata": {
    "colab": {
      "provenance": [],
      "authorship_tag": "ABX9TyMt6vI7W3lwcltadvxJNTEg",
      "include_colab_link": true
    },
    "kernelspec": {
      "name": "python3",
      "display_name": "Python 3"
    },
    "language_info": {
      "name": "python"
    }
  },
  "cells": [
    {
      "cell_type": "markdown",
      "metadata": {
        "id": "view-in-github",
        "colab_type": "text"
      },
      "source": [
        "<a href=\"https://colab.research.google.com/github/raunakyadav92/reminderapp/blob/main/reminderapp.ipynb\" target=\"_parent\"><img src=\"https://colab.research.google.com/assets/colab-badge.svg\" alt=\"Open In Colab\"/></a>"
      ]
    },
    {
      "cell_type": "code",
      "execution_count": null,
      "metadata": {
        "id": "AdD6_IIPD2ZI"
      },
      "outputs": [],
      "source": [
        "import time\n",
        "\n",
        "def reminder_app():\n",
        "    print(\"\\n=== ⏰ LearnLoop Reminder App ===\\n\")\n",
        "\n",
        "    reminder = input(\"📝 What do you want to be reminded about? \")\n",
        "    minutes = input(\"⏳ In how many minutes? \")\n",
        "\n",
        "    if not minutes.isdigit():\n",
        "        print(\"❌ Invalid input! Please enter a number for minutes.\")\n",
        "        return\n",
        "\n",
        "    wait_time = int(minutes) * 60\n",
        "    print(f\"✅ Reminder set for {minutes} minute(s). Waiting...\")\n",
        "    time.sleep(wait_time)\n",
        "\n",
        "    print(f\"\\n🔔 REMINDER: {reminder} 🔔\")\n",
        "    print(\"Task reminder complete. Don’t forget next time! 😄\")\n",
        "\n",
        "if __name__ == \"__main__\":\n",
        "    reminder_app()\n"
      ]
    }
  ]
}